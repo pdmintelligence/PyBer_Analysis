{
 "cells": [
  {
   "cell_type": "code",
   "execution_count": 1,
   "id": "c505fc5c",
   "metadata": {},
   "outputs": [],
   "source": [
    "import matplotlib.pyplot as plt"
   ]
  },
  {
   "cell_type": "code",
   "execution_count": 8,
   "id": "9c370dfc",
   "metadata": {},
   "outputs": [],
   "source": [
    "#creating variables*\n",
    "x=[1,2,3,4,5,6,7,8]\n",
    "y=[5,4,2,7,3,2,4,6]"
   ]
  },
  {
   "cell_type": "code",
   "execution_count": 24,
   "id": "ed5cb5dd",
   "metadata": {},
   "outputs": [
    {
     "data": {
      "text/plain": [
       "Text(0, 0.5, 'look away')"
      ]
     },
     "execution_count": 24,
     "metadata": {},
     "output_type": "execute_result"
    },
    {
     "data": {
      "image/png": "[encoded data removed]",
      "text/plain": [
       "<Figure size 432x288 with 1 Axes>"
      ]
     },
     "metadata": {
      "needs_background": "light"
     },
     "output_type": "display_data"
    }
   ],
   "source": [
    "#ploting scatter plot*.\n",
    "plt.scatter(x,y,label='skitscat', color='k', marker='X', s=533)\n",
    "plt.title('skitskaters')\n",
    "plt.xlabel('Not Here')\n",
    "plt.ylabel('look away')\n"
   ]
  },
  {
   "cell_type": "code",
   "execution_count": null,
   "id": "26c5431a",
   "metadata": {},
   "outputs": [],
   "source": [
    "#ploting scatter plot*.\n",
    "plt.scatter(x,y,label='skitscat', color='k', marker='X', s=533)\n",
    "plt.title('skitskaters')\n",
    "plt.xlabel('Not Here')\n",
    "plt.ylabel('look away')\n"
   ]
  }
 ],
 "metadata": {
  "kernelspec": {
   "display_name": "Python 3 (ipykernel)",
   "language": "python",
   "name": "python3"
  },
  "language_info": {
   "codemirror_mode": {
    "name": "ipython",
    "version": 3
   },
   "file_extension": ".py",
   "mimetype": "text/x-python",
   "name": "python",
   "nbconvert_exporter": "python",
   "pygments_lexer": "ipython3",
   "version": "3.7.11"
  }
 },
 "nbformat": 4,
 "nbformat_minor": 5
}
